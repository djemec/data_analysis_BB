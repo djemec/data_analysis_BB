{
 "cells": [
  {
   "cell_type": "code",
   "execution_count": 1,
   "metadata": {},
   "outputs": [],
   "source": [
    "import pandas as pd"
   ]
  },
  {
   "cell_type": "code",
   "execution_count": 9,
   "metadata": {},
   "outputs": [
    {
     "name": "stdout",
     "output_type": "stream",
     "text": [
      "                 counts\n",
      "item date              \n",
      "A    2018-01-01       1\n",
      "     2018-01-02       1\n",
      "     2018-01-03       2\n",
      "     2018-01-04       2\n",
      "     2018-01-05       1\n",
      "     2018-01-06       0\n",
      "     2018-01-07       1\n",
      "     2018-01-08       1\n",
      "B    2018-01-01       0\n",
      "     2018-01-02       0\n",
      "     2018-01-03       1\n",
      "     2018-01-04       1\n",
      "     2018-01-05       1\n",
      "     2018-01-06       0\n",
      "     2018-01-07       0\n",
      "     2018-01-08       0\n"
     ]
    }
   ],
   "source": [
    "#Test\n",
    "df = pd.DataFrame(data={'Item':['A','A','B','A'], \n",
    "                        'StartDate':['2018-01-01','2018-01-07', '2018-01-03','2018-01-03'],\n",
    "                        'EndDate': ['2018-01-04','2018-01-08','2018-01-05','2018-01-05']},\n",
    "                 )\n",
    "df['StartDate'] = pd.to_datetime(df['StartDate'])\n",
    "df['EndDate'] = pd.to_datetime(df['EndDate'])\n",
    "\n",
    "\n",
    "index = pd.MultiIndex.from_product([['A','B'],pd.date_range(start = df.StartDate.min(), end = df.EndDate.max())], names=['item', 'date'])\n",
    "new_df = pd.DataFrame(index = index, data = {'counts':0})\n",
    "\n",
    "dates_list = new_df.index.get_level_values(1)\n",
    "items_list = new_df.index.get_level_values(0)\n",
    "\n",
    "for row in df.itertuples():\n",
    "  new_df.counts[(items_list == row.Item) & (dates_list>=row.StartDate) & (dates_list<= row.EndDate)] += 1\n",
    "\n",
    "print(new_df)"
   ]
  },
  {
   "cell_type": "code",
   "execution_count": null,
   "metadata": {},
   "outputs": [],
   "source": [
    "\n"
   ]
  }
 ],
 "metadata": {
  "kernelspec": {
   "display_name": "Python 3",
   "language": "python",
   "name": "python3"
  },
  "language_info": {
   "codemirror_mode": {
    "name": "ipython",
    "version": 3
   },
   "file_extension": ".py",
   "mimetype": "text/x-python",
   "name": "python",
   "nbconvert_exporter": "python",
   "pygments_lexer": "ipython3",
   "version": "3.6.8"
  }
 },
 "nbformat": 4,
 "nbformat_minor": 2
}
