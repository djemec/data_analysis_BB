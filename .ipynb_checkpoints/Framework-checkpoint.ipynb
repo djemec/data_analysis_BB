{
 "cells": [
  {
   "cell_type": "code",
   "execution_count": 2,
   "metadata": {},
   "outputs": [],
   "source": [
    "import pandas as pd"
   ]
  },
  {
   "cell_type": "code",
   "execution_count": 3,
   "metadata": {},
   "outputs": [
    {
     "name": "stdout",
     "output_type": "stream",
     "text": [
      "  Item  StartDate    EndDate  CT  dayDiff\n",
      "0    A 2018-01-01 2018-01-04  12      3.0\n",
      "1    B 2018-01-07 2018-01-08  14      7.0\n",
      "2    C 2017-12-30 2018-01-05  21      3.0\n",
      "3    D 2018-01-03 2018-01-05  12      4.0\n"
     ]
    }
   ],
   "source": [
    "#Test\n",
    "df = pd.DataFrame(data={'Item':['A','B','C','D'], \n",
    "                        'StartDate':['2018-01-01','2018-01-07', '2017-12-30','2018-01-03'],\n",
    "                        'EndDate': ['2018-01-04','2018-01-08','2018-01-05','2018-01-05'],\n",
    "                        'CT':[12,14,21,12]},\n",
    "                 )\n",
    "df['StartDate'] = pd.to_datetime(df['StartDate'])\n",
    "df['EndDate'] = pd.to_datetime(df['EndDate'])\n",
    "df['dayDiff'] = df.apply(lambda avg: avg['CT']/((avg['EndDate']-avg['StartDate']).days +1),axis=1)\n",
    "print(df)\n"
   ]
  },
  {
   "cell_type": "code",
   "execution_count": 20,
   "metadata": {},
   "outputs": [],
   "source": [
    "all_item = list(set(df['Item']))\n"
   ]
  },
  {
   "cell_type": "code",
   "execution_count": 21,
   "metadata": {},
   "outputs": [
    {
     "name": "stdout",
     "output_type": "stream",
     "text": [
      "   item       date  counts\n",
      "0     C 2017-12-30       3\n",
      "1     C 2017-12-31       3\n",
      "2     C 2018-01-01       3\n",
      "3     C 2018-01-02       3\n",
      "4     C 2018-01-03       3\n",
      "5     C 2018-01-04       3\n",
      "6     C 2018-01-05       3\n",
      "7     C 2018-01-06       0\n",
      "8     C 2018-01-07       0\n",
      "9     C 2018-01-08       0\n",
      "10    A 2017-12-30       0\n",
      "11    A 2017-12-31       0\n",
      "12    A 2018-01-01       3\n",
      "13    A 2018-01-02       3\n",
      "14    A 2018-01-03       3\n",
      "15    A 2018-01-04       3\n",
      "16    A 2018-01-05       0\n",
      "17    A 2018-01-06       0\n",
      "18    A 2018-01-07       0\n",
      "19    A 2018-01-08       0\n",
      "20    D 2017-12-30       0\n",
      "21    D 2017-12-31       0\n",
      "22    D 2018-01-01       0\n",
      "23    D 2018-01-02       0\n",
      "24    D 2018-01-03       4\n",
      "25    D 2018-01-04       4\n",
      "26    D 2018-01-05       4\n",
      "27    D 2018-01-06       0\n",
      "28    D 2018-01-07       0\n",
      "29    D 2018-01-08       0\n",
      "30    B 2017-12-30       0\n",
      "31    B 2017-12-31       0\n",
      "32    B 2018-01-01       0\n",
      "33    B 2018-01-02       0\n",
      "34    B 2018-01-03       0\n",
      "35    B 2018-01-04       0\n",
      "36    B 2018-01-05       0\n",
      "37    B 2018-01-06       0\n",
      "38    B 2018-01-07       7\n",
      "39    B 2018-01-08       7\n"
     ]
    }
   ],
   "source": [
    "\n",
    "\n",
    "index = pd.MultiIndex.from_product([all_item,pd.date_range(start = df.StartDate.min(), end = df.EndDate.max())], names=['item', 'date'])\n",
    "new_df = pd.DataFrame(index = index, data = {'counts':0})\n",
    "\n",
    "dates_list = new_df.index.get_level_values(1)\n",
    "items_list = new_df.index.get_level_values(0)\n",
    "\n",
    "for row in df.itertuples():\n",
    "    new_df.counts[(items_list == row.Item) & (dates_list>=row.StartDate) & (dates_list<= row.EndDate)] += row[5]\n",
    "\n",
    "# to remove 0 if needed\n",
    "# new_df = new_df[(new_df.counts != 0)]\n",
    "\n",
    "new_df.reset_index(inplace=True)\n",
    "print(new_df)\n"
   ]
  },
  {
   "cell_type": "code",
   "execution_count": null,
   "metadata": {},
   "outputs": [],
   "source": []
  },
  {
   "cell_type": "code",
   "execution_count": null,
   "metadata": {},
   "outputs": [],
   "source": []
  }
 ],
 "metadata": {
  "kernelspec": {
   "display_name": "Python 3",
   "language": "python",
   "name": "python3"
  },
  "language_info": {
   "codemirror_mode": {
    "name": "ipython",
    "version": 3
   },
   "file_extension": ".py",
   "mimetype": "text/x-python",
   "name": "python",
   "nbconvert_exporter": "python",
   "pygments_lexer": "ipython3",
   "version": "3.6.8"
  }
 },
 "nbformat": 4,
 "nbformat_minor": 2
}
