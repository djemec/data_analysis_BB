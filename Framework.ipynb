{
 "cells": [
  {
   "cell_type": "code",
   "execution_count": 1,
   "metadata": {},
   "outputs": [],
   "source": [
    "import pandas as pd"
   ]
  },
  {
   "cell_type": "code",
   "execution_count": 18,
   "metadata": {},
   "outputs": [
    {
     "name": "stdout",
     "output_type": "stream",
     "text": [
      "  Item  StartDate    EndDate  CT  dayDiff\n",
      "0    A 2018-01-01 2018-01-04  12      3.0\n",
      "1    A 2018-01-07 2018-01-08  14      7.0\n",
      "2    B 2017-12-30 2018-01-05  21      3.0\n",
      "3    A 2018-01-03 2018-01-05  12      4.0\n"
     ]
    }
   ],
   "source": [
    "#Test\n",
    "df = pd.DataFrame(data={'Item':['A','B','C','D'], \n",
    "                        'StartDate':['2018-01-01','2018-01-07', '2017-12-30','2018-01-03'],\n",
    "                        'EndDate': ['2018-01-04','2018-01-08','2018-01-05','2018-01-05'],\n",
    "                        'CT':[12,14,21,12]},\n",
    "                 )\n",
    "df['StartDate'] = pd.to_datetime(df['StartDate'])\n",
    "df['EndDate'] = pd.to_datetime(df['EndDate'])\n",
    "df['dayDiff'] = df.apply(lambda avg: avg['CT']/((avg['EndDate']-avg['StartDate']).days +1),axis=1)\n",
    "print(df)\n"
   ]
  },
  {
   "cell_type": "code",
   "execution_count": 47,
   "metadata": {},
   "outputs": [
    {
     "name": "stdout",
     "output_type": "stream",
     "text": [
      "   item       date  counts\n",
      "0     A 2017-12-30       0\n",
      "1     A 2017-12-31       0\n",
      "2     A 2018-01-01       3\n",
      "3     A 2018-01-02       3\n",
      "4     A 2018-01-03       7\n",
      "5     A 2018-01-04       7\n",
      "6     A 2018-01-05       4\n",
      "7     A 2018-01-06       0\n",
      "8     A 2018-01-07       7\n",
      "9     A 2018-01-08       7\n",
      "10    B 2017-12-30       3\n",
      "11    B 2017-12-31       3\n",
      "12    B 2018-01-01       3\n",
      "13    B 2018-01-02       3\n",
      "14    B 2018-01-03       3\n",
      "15    B 2018-01-04       3\n",
      "16    B 2018-01-05       3\n",
      "17    B 2018-01-06       0\n",
      "18    B 2018-01-07       0\n",
      "19    B 2018-01-08       0\n"
     ]
    }
   ],
   "source": [
    "\n",
    "\n",
    "index = pd.MultiIndex.from_product([['A','B'],pd.date_range(start = df.StartDate.min(), end = df.EndDate.max())], names=['item', 'date'])\n",
    "new_df = pd.DataFrame(index = index, data = {'counts':0})\n",
    "\n",
    "dates_list = new_df.index.get_level_values(1)\n",
    "items_list = new_df.index.get_level_values(0)\n",
    "\n",
    "for row in df.itertuples():\n",
    "    new_df.counts[(items_list == row.Item) & (dates_list>=row.StartDate) & (dates_list<= row.EndDate)] += row[5]\n",
    "\n",
    "# to remove 0 if needed\n",
    "# new_df = new_df[(new_df.counts != 0)]\n",
    "\n",
    "new_df.reset_index(inplace=True)\n",
    "print(new_df)\n"
   ]
  },
  {
   "cell_type": "code",
   "execution_count": null,
   "metadata": {},
   "outputs": [],
   "source": []
  },
  {
   "cell_type": "code",
   "execution_count": null,
   "metadata": {},
   "outputs": [],
   "source": []
  }
 ],
 "metadata": {
  "kernelspec": {
   "display_name": "Python 3",
   "language": "python",
   "name": "python3"
  },
  "language_info": {
   "codemirror_mode": {
    "name": "ipython",
    "version": 3
   },
   "file_extension": ".py",
   "mimetype": "text/x-python",
   "name": "python",
   "nbconvert_exporter": "python",
   "pygments_lexer": "ipython3",
   "version": "3.6.8"
  }
 },
 "nbformat": 4,
 "nbformat_minor": 2
}
